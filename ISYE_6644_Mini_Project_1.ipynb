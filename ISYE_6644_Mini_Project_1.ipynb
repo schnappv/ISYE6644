{
  "nbformat": 4,
  "nbformat_minor": 0,
  "metadata": {
    "colab": {
      "name": "ISYE_6644_Mini_Project_1.ipynb",
      "provenance": [],
      "collapsed_sections": [],
      "include_colab_link": true
    },
    "kernelspec": {
      "name": "python3",
      "display_name": "Python 3"
    },
    "language_info": {
      "name": "python"
    }
  },
  "cells": [
    {
      "cell_type": "markdown",
      "metadata": {
        "id": "view-in-github",
        "colab_type": "text"
      },
      "source": [
        "<a href=\"https://colab.research.google.com/github/schnappv/ISYE6644/blob/main/ISYE_6644_Mini_Project_1.ipynb\" target=\"_parent\"><img src=\"https://colab.research.google.com/assets/colab-badge.svg\" alt=\"Open In Colab\"/></a>"
      ]
    },
    {
      "cell_type": "markdown",
      "metadata": {
        "id": "NRexKkqzod22"
      },
      "source": [
        "# The Spread of a Flu Simulated through Python\n",
        "\n",
        "*Michael Barnhart, Valerie Schnapp, and Jonathon Yang*\n",
        "\n",
        "-----"
      ]
    },
    {
      "cell_type": "markdown",
      "metadata": {
        "id": "1I0vDEkqeWIH"
      },
      "source": [
        "Consider a classroom of 21 elementary school kids.  20 of the kids are healthy (and susceptible to flu) on Day 1.  Tommy (the 21st kid) walks in with the flu and starts interacting with his potential victims.  To keep things simple, let’s suppose that Tommy comes to school every day (whetheror not he’s sick) and will be infectious for 3 days.  Thus, there are 3 chances for Tommy to infect the other kids — Days 1, 2, and 3.  Suppose that the probabilitythat he infects any individual susceptible kid on any of the three days is p= 0.02; and suppose that all kids and days are independent (so that you have i.i.d. Bern(p) trials).\n"
      ]
    },
    {
      "cell_type": "code",
      "metadata": {
        "id": "YRMUO9P0cmWt"
      },
      "source": [
        "import matplotlib.pyplot as plt\n",
        "import numpy as np\n",
        "import pandas as pd\n",
        "import seaborn as sns\n",
        "import time\n",
        "\n",
        "from IPython.display import HTML, display\n",
        "from scipy import stats"
      ],
      "execution_count": null,
      "outputs": []
    },
    {
      "cell_type": "code",
      "metadata": {
        "colab": {
          "base_uri": "https://localhost:8080/",
          "height": 34
        },
        "id": "oKMTyaI7Jlh9",
        "outputId": "3caf0d1b-2b47-4243-ea3e-2f0ec96344c8"
      },
      "source": [
        "# initiate a progress bar for running the simulation\n",
        "def progress(value, max=100):\n",
        "    return HTML(\"\"\"\n",
        "        <progress\n",
        "            value='{value}'\n",
        "            max='{max}',\n",
        "            style='width: 50%'\n",
        "        >\n",
        "            {value}\n",
        "        </progress>\n",
        "    \"\"\".format(value=value, max=max))\n",
        "    \n",
        "out = display(progress(0, 100), display_id=True)"
      ],
      "execution_count": null,
      "outputs": [
        {
          "output_type": "display_data",
          "data": {
            "text/html": [
              "\n",
              "        <progress\n",
              "            value='0'\n",
              "            max='100',\n",
              "            style='width: 50%'\n",
              "        >\n",
              "            0\n",
              "        </progress>\n",
              "    "
            ],
            "text/plain": [
              "<IPython.core.display.HTML object>"
            ]
          },
          "metadata": {
            "tags": []
          }
        }
      ]
    },
    {
      "cell_type": "markdown",
      "metadata": {
        "id": "ifCVGKGuc7PV"
      },
      "source": [
        "### (a) What is the distribution of the number of kids that Tommy infects on Day 1"
      ]
    },
    {
      "cell_type": "markdown",
      "metadata": {
        "id": "Fn2NnJjjNv9E"
      },
      "source": [
        "Since there are 20 students that could be infected my Tommy, there are 20 i.i.d `Bernoulli(p=0.02)` trials. This means that the distribution of the number of kids that Tommy infects on Day 1 is `X~Binomial(n=20, p=0.02)`. Now, we can simulate this distribution over `N=10000` trials. "
      ]
    },
    {
      "cell_type": "code",
      "metadata": {
        "id": "zgZzpLjfc6zZ"
      },
      "source": [
        "n = 21 # total number of students\n",
        "I0 = 1 # infected at time 0\n",
        "R0 = 0 # recovered at time 0\n",
        "S0 = 20 # susceptible at time 0\n",
        "p = 0.02 # susceptibility rate\n",
        "N = 10000 # number of simulation trials"
      ],
      "execution_count": null,
      "outputs": []
    },
    {
      "cell_type": "code",
      "metadata": {
        "id": "PP71Fj-vc6rr",
        "colab": {
          "base_uri": "https://localhost:8080/",
          "height": 34
        },
        "outputId": "97133d2d-c0cf-4c02-9ac4-14ae8b0fd571"
      },
      "source": [
        "# set a random seed for reproducability \n",
        "np.random.seed(42)\n",
        "for j in range(N):\n",
        "  infected_by_tommy_on_day_one = stats.binom.rvs(n-I0, p, size=N)\n",
        "  out.update(progress(j, N))"
      ],
      "execution_count": null,
      "outputs": [
        {
          "output_type": "display_data",
          "data": {
            "text/html": [
              "\n",
              "        <progress\n",
              "            value='9999'\n",
              "            max='10000',\n",
              "            style='width: 50%'\n",
              "        >\n",
              "            9999\n",
              "        </progress>\n",
              "    "
            ],
            "text/plain": [
              "<IPython.core.display.HTML object>"
            ]
          },
          "metadata": {
            "tags": []
          }
        }
      ]
    },
    {
      "cell_type": "code",
      "metadata": {
        "colab": {
          "base_uri": "https://localhost:8080/",
          "height": 80
        },
        "id": "5zsFtl3geAty",
        "outputId": "d6e936f1-74f7-4c67-f6f9-9338443f9fd8"
      },
      "source": [
        "# display a summary of the number of students infected by Tommy day 1 over N trials\n",
        "pd.DataFrame(infected_by_tommy_on_day_one).describe().T"
      ],
      "execution_count": null,
      "outputs": [
        {
          "output_type": "execute_result",
          "data": {
            "text/html": [
              "<div>\n",
              "<style scoped>\n",
              "    .dataframe tbody tr th:only-of-type {\n",
              "        vertical-align: middle;\n",
              "    }\n",
              "\n",
              "    .dataframe tbody tr th {\n",
              "        vertical-align: top;\n",
              "    }\n",
              "\n",
              "    .dataframe thead th {\n",
              "        text-align: right;\n",
              "    }\n",
              "</style>\n",
              "<table border=\"1\" class=\"dataframe\">\n",
              "  <thead>\n",
              "    <tr style=\"text-align: right;\">\n",
              "      <th></th>\n",
              "      <th>count</th>\n",
              "      <th>mean</th>\n",
              "      <th>std</th>\n",
              "      <th>min</th>\n",
              "      <th>25%</th>\n",
              "      <th>50%</th>\n",
              "      <th>75%</th>\n",
              "      <th>max</th>\n",
              "    </tr>\n",
              "  </thead>\n",
              "  <tbody>\n",
              "    <tr>\n",
              "      <th>0</th>\n",
              "      <td>10000.0</td>\n",
              "      <td>0.3975</td>\n",
              "      <td>0.620268</td>\n",
              "      <td>0.0</td>\n",
              "      <td>0.0</td>\n",
              "      <td>0.0</td>\n",
              "      <td>1.0</td>\n",
              "      <td>4.0</td>\n",
              "    </tr>\n",
              "  </tbody>\n",
              "</table>\n",
              "</div>"
            ],
            "text/plain": [
              "     count    mean       std  min  25%  50%  75%  max\n",
              "0  10000.0  0.3975  0.620268  0.0  0.0  0.0  1.0  4.0"
            ]
          },
          "metadata": {
            "tags": []
          },
          "execution_count": 5
        }
      ]
    },
    {
      "cell_type": "code",
      "metadata": {
        "colab": {
          "base_uri": "https://localhost:8080/",
          "height": 552
        },
        "id": "2wYscAuYF65w",
        "outputId": "c073aca1-0f57-48cd-8a56-da3569ce84a2"
      },
      "source": [
        "plt.rcParams.update({'font.size':18})\n",
        "sns.set_style('whitegrid')\n",
        "plt.figure(figsize=(12,8))\n",
        "plt.title(\"Number of Students Infected by Tommy on Day 1\")\n",
        "sns.histplot(infected_by_tommy_on_day_one, discrete=True, kde=False,\n",
        "             bins=range(5))\n",
        "plt.xlabel(\"Students Infected\")\n",
        "plt.ylabel(\"Simulation Trials\")"
      ],
      "execution_count": null,
      "outputs": [
        {
          "output_type": "execute_result",
          "data": {
            "text/plain": [
              "Text(0, 0.5, 'Simulation Trials')"
            ]
          },
          "metadata": {
            "tags": []
          },
          "execution_count": 6
        },
        {
          "output_type": "display_data",
          "data": {
            "image/png": "[encoded data removed]",
            "text/plain": [
              "<Figure size 864x576 with 1 Axes>"
            ]
          },
          "metadata": {
            "tags": []
          }
        }
      ]
    },
    {
      "cell_type": "markdown",
      "metadata": {
        "id": "L1aYffVjPQ_z"
      },
      "source": [
        "The summary show’s a right skewed distribution (i.e. the mode is less than the median is less than the mean) that heavily favors the number of students to be infected by Tommy on day one to be only 0 students. \n"
      ]
    },
    {
      "cell_type": "markdown",
      "metadata": {
        "id": "IxYgctcJPXj4"
      },
      "source": [
        "### (b) What is the expected number of kids that Tommy infects on Day 1?"
      ]
    },
    {
      "cell_type": "markdown",
      "metadata": {
        "id": "XpLfCLQzPofP"
      },
      "source": [
        "`E[X] = n*p` for a Binomial distribution (i.e. `n` Bernoulli trials). `E[X] = 20 susceptible * 0.02 = 0.4`. "
      ]
    },
    {
      "cell_type": "code",
      "metadata": {
        "colab": {
          "base_uri": "https://localhost:8080/"
        },
        "id": "SySHskObP9QS",
        "outputId": "aeced7d6-a9f8-4cfc-85b2-cd87b4866280"
      },
      "source": [
        "I1 = 1 # Students infected on day 1\n",
        "R1 = 0 # Students recovered on day 1\n",
        "S1 = 21 - I1 # Students susceptible on day 1\n",
        "\n",
        "Ex1 = S1 * (I1 * p)\n",
        "print(\"At day one, E[x] = \", Ex1)"
      ],
      "execution_count": null,
      "outputs": [
        {
          "output_type": "stream",
          "text": [
            "At day one, E[x] =  0.4\n"
          ],
          "name": "stdout"
        }
      ]
    },
    {
      "cell_type": "markdown",
      "metadata": {
        "id": "eLfLuP7fQQ7R"
      },
      "source": [
        "Since you can’t have a fraction of a person, we are going to take the ceiling of this and expect that one student to be infected on Day 1."
      ]
    },
    {
      "cell_type": "markdown",
      "metadata": {
        "id": "PpiBLNtxPcwe"
      },
      "source": [
        "### (c) What  is  the  expected  number  of  kids  that  are  infected  by  Day  2  (you  can count Tommy if you want)?\n"
      ]
    },
    {
      "cell_type": "markdown",
      "metadata": {
        "id": "5M0AQO7vQS5I"
      },
      "source": [
        "`E[X] = n*p`. Since we now have 2 infected people (Tommy plus the person he infected), `n=21-1.4=19.6`. This also means we need to double the probability."
      ]
    },
    {
      "cell_type": "code",
      "metadata": {
        "colab": {
          "base_uri": "https://localhost:8080/"
        },
        "id": "CHccJ_2UQgaG",
        "outputId": "4551f593-814a-41bd-9bef-d363b544857f"
      },
      "source": [
        "I2 = 1 + Ex1 # Students infected on day 2\n",
        "R2 = 0 # Students recovered on day 2\n",
        "S2 = 21 - I2 # Students susceptible on day 2\n",
        "\n",
        "Ex2 = S2 * (I2 * p)\n",
        "print(\"At day 2, E[x] = \", Ex2)"
      ],
      "execution_count": null,
      "outputs": [
        {
          "output_type": "stream",
          "text": [
            "At day 2, E[x] =  0.5488\n"
          ],
          "name": "stdout"
        }
      ]
    },
    {
      "cell_type": "markdown",
      "metadata": {
        "id": "bZokw_IlQg6A"
      },
      "source": [
        "Since you can’t have a fraction of a person, we are going to take the ceiling of this and expect that one student to be infected on Day 2. We now expect there to be 3 people infected by Day 3."
      ]
    },
    {
      "cell_type": "markdown",
      "metadata": {
        "id": "lcDrU34fXH8w"
      },
      "source": [
        "### (d) Simulate the number of kids that are infected on Days 1,2,. . . .  Do this many times.  What are the (estimated) expected numbers of kids that are infected by Day i = 1, 2, . . .?  Produce a histogram detailing how long the “epidemic” will last."
      ]
    },
    {
      "cell_type": "code",
      "metadata": {
        "id": "ClWxuRBZZ1vu"
      },
      "source": [
        "# total number of students\n",
        "n = 21\n",
        "# infected at time 0\n",
        "I0 = 1\n",
        "# recovered at time 0\n",
        "R0 = 0\n",
        "# susceptible at time 0\n",
        "S0 = 20"
      ],
      "execution_count": null,
      "outputs": []
    },
    {
      "cell_type": "code",
      "metadata": {
        "id": "meTobcY2jyMc"
      },
      "source": [
        "def simulate_flu(n, p, I0, gamma):\n",
        "  \"\"\"\n",
        "  Simulates the flu spread in Tommy's class and determines the number of days\n",
        "  the flu will last for. Assume the infection lasts for gamma days and \n",
        "  you are recovered after (no longer susceptible). Simulation terminates\n",
        "  when either no more students are infected or no more studets are susceptible.\n",
        "\n",
        "  Parameters\n",
        "  --------\n",
        "  n : int\n",
        "    The number of students in the class\n",
        "  \n",
        "  p : float\n",
        "    The probability of infecting someone if you are infected\n",
        "  \n",
        "  I0 : int\n",
        "    The number of students initially infected\n",
        "  \n",
        "  gamma : int\n",
        "    The number of days infection lasts for\n",
        "  \n",
        "  Returns\n",
        "  --------\n",
        "  df : pd.DataFrame\n",
        "    A dataframe with daily records on students infected, susceptible, and recovered\n",
        "  \"\"\"\n",
        "  t = 0\n",
        "  infected = np.array([gamma]*I0)\n",
        "  num_infected = len(infected)\n",
        "  p_i = p * num_infected\n",
        "  num_recovered = 0\n",
        "  num_sus = n - num_infected - num_recovered\n",
        "  df = pd.DataFrame()\n",
        "  for t in range(100):\n",
        "    if np.all(infected <= 0) or num_sus < 1:\n",
        "      while t < 22: # 22 was determined by running the simulation and finding it to be the maximum number of days\n",
        "        df = df.append(pd.DataFrame({\n",
        "          \"Day\": t+1,\n",
        "          \"Students Infected\": 0,\n",
        "          \"Students Susceptible\": 0,\n",
        "          \"Students Recovered\": num_recovered,\n",
        "          \"Probability of Infection\": 0\n",
        "          }, index=[t]), ignore_index=True)\n",
        "        t += 1\n",
        "      return df\n",
        "    df = df.append(pd.DataFrame({\n",
        "        \"Day\": t+1,\n",
        "        \"Students Infected\": num_infected,\n",
        "        \"Students Susceptible\": num_sus,\n",
        "        \"Students Recovered\": num_recovered,\n",
        "        \"Probability of Infection\": p_i\n",
        "        }, index=[t]), ignore_index=True)\n",
        "    day_t_infected = np.random.binomial(num_sus, p_i)\n",
        "    if day_t_infected != 0:\n",
        "      infected = np.append(infected, np.ones(day_t_infected) * gamma+1)\n",
        "    num_infected = len(infected[infected != 0])\n",
        "    t += 1\n",
        "    infected -= 1\n",
        "    num_recovered += len(np.where(infected == 0)[0])\n",
        "    p_i = p * num_infected\n",
        "    num_sus = n - num_infected - num_recovered"
      ],
      "execution_count": null,
      "outputs": []
    },
    {
      "cell_type": "code",
      "metadata": {
        "colab": {
          "base_uri": "https://localhost:8080/",
          "height": 762
        },
        "id": "6QuVyrvisiy3",
        "outputId": "cabce515-d2e7-4be3-cc95-3470308d2dcc"
      },
      "source": [
        "# run the simulation without a random seed\n",
        "np.random.seed(None)\n",
        "df = simulate_flu(n=21, p=0.02, I0=1, gamma=3)\n",
        "\n",
        "# display results for one run\n",
        "df.set_index(\"Day\")"
      ],
      "execution_count": null,
      "outputs": [
        {
          "output_type": "execute_result",
          "data": {
            "text/html": [
              "<div>\n",
              "<style scoped>\n",
              "    .dataframe tbody tr th:only-of-type {\n",
              "        vertical-align: middle;\n",
              "    }\n",
              "\n",
              "    .dataframe tbody tr th {\n",
              "        vertical-align: top;\n",
              "    }\n",
              "\n",
              "    .dataframe thead th {\n",
              "        text-align: right;\n",
              "    }\n",
              "</style>\n",
              "<table border=\"1\" class=\"dataframe\">\n",
              "  <thead>\n",
              "    <tr style=\"text-align: right;\">\n",
              "      <th></th>\n",
              "      <th>Students Infected</th>\n",
              "      <th>Students Susceptible</th>\n",
              "      <th>Students Recovered</th>\n",
              "      <th>Probability of Infection</th>\n",
              "    </tr>\n",
              "    <tr>\n",
              "      <th>Day</th>\n",
              "      <th></th>\n",
              "      <th></th>\n",
              "      <th></th>\n",
              "      <th></th>\n",
              "    </tr>\n",
              "  </thead>\n",
              "  <tbody>\n",
              "    <tr>\n",
              "      <th>1</th>\n",
              "      <td>1</td>\n",
              "      <td>20</td>\n",
              "      <td>0</td>\n",
              "      <td>0.02</td>\n",
              "    </tr>\n",
              "    <tr>\n",
              "      <th>2</th>\n",
              "      <td>1</td>\n",
              "      <td>20</td>\n",
              "      <td>0</td>\n",
              "      <td>0.02</td>\n",
              "    </tr>\n",
              "    <tr>\n",
              "      <th>3</th>\n",
              "      <td>2</td>\n",
              "      <td>19</td>\n",
              "      <td>0</td>\n",
              "      <td>0.04</td>\n",
              "    </tr>\n",
              "    <tr>\n",
              "      <th>4</th>\n",
              "      <td>4</td>\n",
              "      <td>16</td>\n",
              "      <td>1</td>\n",
              "      <td>0.08</td>\n",
              "    </tr>\n",
              "    <tr>\n",
              "      <th>5</th>\n",
              "      <td>4</td>\n",
              "      <td>16</td>\n",
              "      <td>1</td>\n",
              "      <td>0.08</td>\n",
              "    </tr>\n",
              "    <tr>\n",
              "      <th>6</th>\n",
              "      <td>6</td>\n",
              "      <td>13</td>\n",
              "      <td>2</td>\n",
              "      <td>0.12</td>\n",
              "    </tr>\n",
              "    <tr>\n",
              "      <th>7</th>\n",
              "      <td>6</td>\n",
              "      <td>11</td>\n",
              "      <td>4</td>\n",
              "      <td>0.12</td>\n",
              "    </tr>\n",
              "    <tr>\n",
              "      <th>8</th>\n",
              "      <td>7</td>\n",
              "      <td>9</td>\n",
              "      <td>5</td>\n",
              "      <td>0.14</td>\n",
              "    </tr>\n",
              "    <tr>\n",
              "      <th>9</th>\n",
              "      <td>11</td>\n",
              "      <td>4</td>\n",
              "      <td>6</td>\n",
              "      <td>0.22</td>\n",
              "    </tr>\n",
              "    <tr>\n",
              "      <th>10</th>\n",
              "      <td>13</td>\n",
              "      <td>1</td>\n",
              "      <td>7</td>\n",
              "      <td>0.26</td>\n",
              "    </tr>\n",
              "    <tr>\n",
              "      <th>11</th>\n",
              "      <td>0</td>\n",
              "      <td>0</td>\n",
              "      <td>9</td>\n",
              "      <td>0.00</td>\n",
              "    </tr>\n",
              "    <tr>\n",
              "      <th>12</th>\n",
              "      <td>0</td>\n",
              "      <td>0</td>\n",
              "      <td>9</td>\n",
              "      <td>0.00</td>\n",
              "    </tr>\n",
              "    <tr>\n",
              "      <th>13</th>\n",
              "      <td>0</td>\n",
              "      <td>0</td>\n",
              "      <td>9</td>\n",
              "      <td>0.00</td>\n",
              "    </tr>\n",
              "    <tr>\n",
              "      <th>14</th>\n",
              "      <td>0</td>\n",
              "      <td>0</td>\n",
              "      <td>9</td>\n",
              "      <td>0.00</td>\n",
              "    </tr>\n",
              "    <tr>\n",
              "      <th>15</th>\n",
              "      <td>0</td>\n",
              "      <td>0</td>\n",
              "      <td>9</td>\n",
              "      <td>0.00</td>\n",
              "    </tr>\n",
              "    <tr>\n",
              "      <th>16</th>\n",
              "      <td>0</td>\n",
              "      <td>0</td>\n",
              "      <td>9</td>\n",
              "      <td>0.00</td>\n",
              "    </tr>\n",
              "    <tr>\n",
              "      <th>17</th>\n",
              "      <td>0</td>\n",
              "      <td>0</td>\n",
              "      <td>9</td>\n",
              "      <td>0.00</td>\n",
              "    </tr>\n",
              "    <tr>\n",
              "      <th>18</th>\n",
              "      <td>0</td>\n",
              "      <td>0</td>\n",
              "      <td>9</td>\n",
              "      <td>0.00</td>\n",
              "    </tr>\n",
              "    <tr>\n",
              "      <th>19</th>\n",
              "      <td>0</td>\n",
              "      <td>0</td>\n",
              "      <td>9</td>\n",
              "      <td>0.00</td>\n",
              "    </tr>\n",
              "    <tr>\n",
              "      <th>20</th>\n",
              "      <td>0</td>\n",
              "      <td>0</td>\n",
              "      <td>9</td>\n",
              "      <td>0.00</td>\n",
              "    </tr>\n",
              "    <tr>\n",
              "      <th>21</th>\n",
              "      <td>0</td>\n",
              "      <td>0</td>\n",
              "      <td>9</td>\n",
              "      <td>0.00</td>\n",
              "    </tr>\n",
              "    <tr>\n",
              "      <th>22</th>\n",
              "      <td>0</td>\n",
              "      <td>0</td>\n",
              "      <td>9</td>\n",
              "      <td>0.00</td>\n",
              "    </tr>\n",
              "  </tbody>\n",
              "</table>\n",
              "</div>"
            ],
            "text/plain": [
              "     Students Infected  ...  Probability of Infection\n",
              "Day                     ...                          \n",
              "1                    1  ...                      0.02\n",
              "2                    1  ...                      0.02\n",
              "3                    2  ...                      0.04\n",
              "4                    4  ...                      0.08\n",
              "5                    4  ...                      0.08\n",
              "6                    6  ...                      0.12\n",
              "7                    6  ...                      0.12\n",
              "8                    7  ...                      0.14\n",
              "9                   11  ...                      0.22\n",
              "10                  13  ...                      0.26\n",
              "11                   0  ...                      0.00\n",
              "12                   0  ...                      0.00\n",
              "13                   0  ...                      0.00\n",
              "14                   0  ...                      0.00\n",
              "15                   0  ...                      0.00\n",
              "16                   0  ...                      0.00\n",
              "17                   0  ...                      0.00\n",
              "18                   0  ...                      0.00\n",
              "19                   0  ...                      0.00\n",
              "20                   0  ...                      0.00\n",
              "21                   0  ...                      0.00\n",
              "22                   0  ...                      0.00\n",
              "\n",
              "[22 rows x 4 columns]"
            ]
          },
          "metadata": {
            "tags": []
          },
          "execution_count": 11
        }
      ]
    },
    {
      "cell_type": "code",
      "metadata": {
        "id": "LQoRLWC6szh-",
        "colab": {
          "base_uri": "https://localhost:8080/",
          "height": 34
        },
        "outputId": "80047e89-e782-4b9c-d6c5-d8559cef8b67"
      },
      "source": [
        "days_of_simulation = []\n",
        "total_df = pd.DataFrame()\n",
        "N = 10000\n",
        "\n",
        "# Run the simulation N=10,000 times and display progress with a progress bar\n",
        "for j in range(N):\n",
        "    new_df = simulate_flu(n=21, p=0.02, I0=1, gamma=3)\n",
        "    new_df[\"simulation_round\"] = j\n",
        "    days_of_simulation.append(len(new_df[new_df[\"Students Infected\"]!=0]))\n",
        "    total_df = total_df.append(new_df)\n",
        "    out.update(progress(j, N))"
      ],
      "execution_count": 19,
      "outputs": [
        {
          "output_type": "display_data",
          "data": {
            "text/html": [
              "\n",
              "        <progress\n",
              "            value='9999'\n",
              "            max='10000',\n",
              "            style='width: 50%'\n",
              "        >\n",
              "            9999\n",
              "        </progress>\n",
              "    "
            ],
            "text/plain": [
              "<IPython.core.display.HTML object>"
            ]
          },
          "metadata": {
            "tags": []
          }
        }
      ]
    },
    {
      "cell_type": "code",
      "metadata": {
        "id": "X-z2XfpbDHS_",
        "colab": {
          "base_uri": "https://localhost:8080/",
          "height": 552
        },
        "outputId": "018a98eb-c3bc-423d-cdba-87027da7bbca"
      },
      "source": [
        "plt.rcParams.update({'font.size':18})\n",
        "sns.set_style('whitegrid')\n",
        "plt.figure(figsize=(12,8))\n",
        "plt.title(\"Days of Flu in Tommy's Class\")\n",
        "sns.histplot(days_of_simulation, discrete=True, kde=True)\n",
        "plt.xlabel(\"Days\")\n",
        "plt.ylabel(\"Simulation Trials\")"
      ],
      "execution_count": 20,
      "outputs": [
        {
          "output_type": "execute_result",
          "data": {
            "text/plain": [
              "Text(0, 0.5, 'Simulation Trials')"
            ]
          },
          "metadata": {
            "tags": []
          },
          "execution_count": 20
        },
        {
          "output_type": "display_data",
          "data": {
            "image/png": "[encoded data removed]",
            "text/plain": [
              "<Figure size 864x576 with 1 Axes>"
            ]
          },
          "metadata": {
            "tags": []
          }
        }
      ]
    },
    {
      "cell_type": "code",
      "metadata": {
        "id": "Tyd57y1KyvZl",
        "colab": {
          "base_uri": "https://localhost:8080/",
          "height": 80
        },
        "outputId": "4ab560a6-1104-4280-f0fc-982e81ddbe27"
      },
      "source": [
        "# Display key statistics of the simulation trials\n",
        "pd.DataFrame(np.array(days_of_simulation)).describe().T"
      ],
      "execution_count": 21,
      "outputs": [
        {
          "output_type": "execute_result",
          "data": {
            "text/html": [
              "<div>\n",
              "<style scoped>\n",
              "    .dataframe tbody tr th:only-of-type {\n",
              "        vertical-align: middle;\n",
              "    }\n",
              "\n",
              "    .dataframe tbody tr th {\n",
              "        vertical-align: top;\n",
              "    }\n",
              "\n",
              "    .dataframe thead th {\n",
              "        text-align: right;\n",
              "    }\n",
              "</style>\n",
              "<table border=\"1\" class=\"dataframe\">\n",
              "  <thead>\n",
              "    <tr style=\"text-align: right;\">\n",
              "      <th></th>\n",
              "      <th>count</th>\n",
              "      <th>mean</th>\n",
              "      <th>std</th>\n",
              "      <th>min</th>\n",
              "      <th>25%</th>\n",
              "      <th>50%</th>\n",
              "      <th>75%</th>\n",
              "      <th>max</th>\n",
              "    </tr>\n",
              "  </thead>\n",
              "  <tbody>\n",
              "    <tr>\n",
              "      <th>0</th>\n",
              "      <td>10000.0</td>\n",
              "      <td>8.0463</td>\n",
              "      <td>4.200371</td>\n",
              "      <td>3.0</td>\n",
              "      <td>3.0</td>\n",
              "      <td>9.0</td>\n",
              "      <td>11.0</td>\n",
              "      <td>23.0</td>\n",
              "    </tr>\n",
              "  </tbody>\n",
              "</table>\n",
              "</div>"
            ],
            "text/plain": [
              "     count    mean       std  min  25%  50%   75%   max\n",
              "0  10000.0  8.0463  4.200371  3.0  3.0  9.0  11.0  23.0"
            ]
          },
          "metadata": {
            "tags": []
          },
          "execution_count": 21
        }
      ]
    },
    {
      "cell_type": "markdown",
      "metadata": {
        "id": "Xo5jBCsfVvSH"
      },
      "source": [
        "This shows us that a majority of the runs terminate after 3 days because if Tommy does not infect any students, the infection will be fully gone after three days. For the simulation runs where Tommy does infect a student, then the number of days ranges from 3 to 22. "
      ]
    },
    {
      "cell_type": "code",
      "metadata": {
        "id": "y9xQ3hogxtSG",
        "colab": {
          "base_uri": "https://localhost:8080/",
          "height": 762
        },
        "outputId": "428f9a7d-bd40-4a77-e6cc-e5f47d270252"
      },
      "source": [
        "total_df.groupby(\"Day\").mean()[[\"Students Infected\"]][:-1]"
      ],
      "execution_count": 23,
      "outputs": [
        {
          "output_type": "execute_result",
          "data": {
            "text/html": [
              "<div>\n",
              "<style scoped>\n",
              "    .dataframe tbody tr th:only-of-type {\n",
              "        vertical-align: middle;\n",
              "    }\n",
              "\n",
              "    .dataframe tbody tr th {\n",
              "        vertical-align: top;\n",
              "    }\n",
              "\n",
              "    .dataframe thead th {\n",
              "        text-align: right;\n",
              "    }\n",
              "</style>\n",
              "<table border=\"1\" class=\"dataframe\">\n",
              "  <thead>\n",
              "    <tr style=\"text-align: right;\">\n",
              "      <th></th>\n",
              "      <th>Students Infected</th>\n",
              "    </tr>\n",
              "    <tr>\n",
              "      <th>Day</th>\n",
              "      <th></th>\n",
              "    </tr>\n",
              "  </thead>\n",
              "  <tbody>\n",
              "    <tr>\n",
              "      <th>1</th>\n",
              "      <td>1.0000</td>\n",
              "    </tr>\n",
              "    <tr>\n",
              "      <th>2</th>\n",
              "      <td>1.4116</td>\n",
              "    </tr>\n",
              "    <tr>\n",
              "      <th>3</th>\n",
              "      <td>1.9649</td>\n",
              "    </tr>\n",
              "    <tr>\n",
              "      <th>4</th>\n",
              "      <td>2.3923</td>\n",
              "    </tr>\n",
              "    <tr>\n",
              "      <th>5</th>\n",
              "      <td>2.4262</td>\n",
              "    </tr>\n",
              "    <tr>\n",
              "      <th>6</th>\n",
              "      <td>3.3249</td>\n",
              "    </tr>\n",
              "    <tr>\n",
              "      <th>7</th>\n",
              "      <td>3.8055</td>\n",
              "    </tr>\n",
              "    <tr>\n",
              "      <th>8</th>\n",
              "      <td>4.0467</td>\n",
              "    </tr>\n",
              "    <tr>\n",
              "      <th>9</th>\n",
              "      <td>4.0468</td>\n",
              "    </tr>\n",
              "    <tr>\n",
              "      <th>10</th>\n",
              "      <td>3.7015</td>\n",
              "    </tr>\n",
              "    <tr>\n",
              "      <th>11</th>\n",
              "      <td>3.0216</td>\n",
              "    </tr>\n",
              "    <tr>\n",
              "      <th>12</th>\n",
              "      <td>2.2672</td>\n",
              "    </tr>\n",
              "    <tr>\n",
              "      <th>13</th>\n",
              "      <td>1.5555</td>\n",
              "    </tr>\n",
              "    <tr>\n",
              "      <th>14</th>\n",
              "      <td>0.9704</td>\n",
              "    </tr>\n",
              "    <tr>\n",
              "      <th>15</th>\n",
              "      <td>0.5337</td>\n",
              "    </tr>\n",
              "    <tr>\n",
              "      <th>16</th>\n",
              "      <td>0.2794</td>\n",
              "    </tr>\n",
              "    <tr>\n",
              "      <th>17</th>\n",
              "      <td>0.1357</td>\n",
              "    </tr>\n",
              "    <tr>\n",
              "      <th>18</th>\n",
              "      <td>0.0627</td>\n",
              "    </tr>\n",
              "    <tr>\n",
              "      <th>19</th>\n",
              "      <td>0.0284</td>\n",
              "    </tr>\n",
              "    <tr>\n",
              "      <th>20</th>\n",
              "      <td>0.0147</td>\n",
              "    </tr>\n",
              "    <tr>\n",
              "      <th>21</th>\n",
              "      <td>0.0051</td>\n",
              "    </tr>\n",
              "    <tr>\n",
              "      <th>22</th>\n",
              "      <td>0.0030</td>\n",
              "    </tr>\n",
              "  </tbody>\n",
              "</table>\n",
              "</div>"
            ],
            "text/plain": [
              "     Students Infected\n",
              "Day                   \n",
              "1               1.0000\n",
              "2               1.4116\n",
              "3               1.9649\n",
              "4               2.3923\n",
              "5               2.4262\n",
              "6               3.3249\n",
              "7               3.8055\n",
              "8               4.0467\n",
              "9               4.0468\n",
              "10              3.7015\n",
              "11              3.0216\n",
              "12              2.2672\n",
              "13              1.5555\n",
              "14              0.9704\n",
              "15              0.5337\n",
              "16              0.2794\n",
              "17              0.1357\n",
              "18              0.0627\n",
              "19              0.0284\n",
              "20              0.0147\n",
              "21              0.0051\n",
              "22              0.0030"
            ]
          },
          "metadata": {
            "tags": []
          },
          "execution_count": 23
        }
      ]
    },
    {
      "cell_type": "code",
      "metadata": {
        "colab": {
          "base_uri": "https://localhost:8080/"
        },
        "id": "b0pkk7gojVj6",
        "outputId": "d6fc5309-9aa1-425f-ef02-2e9fc858e18a"
      },
      "source": [
        "from scipy.stats import geom\n",
        "p = 0.02\n",
        "prob = geom.cdf(3, p)\n",
        "print(\"The probability that Tommy will infect another student in his 3 days of contagiousness is {}%\".format(prob*100))"
      ],
      "execution_count": 48,
      "outputs": [
        {
          "output_type": "stream",
          "text": [
            "The probability that Tommy will infect another student in his 3 days of contagiousness is 5.8808%\n"
          ],
          "name": "stdout"
        }
      ]
    },
    {
      "cell_type": "code",
      "metadata": {
        "colab": {
          "base_uri": "https://localhost:8080/"
        },
        "id": "UvtX0PaXjZpc",
        "outputId": "71e63c51-8d66-486a-da51-247d2a7666f6"
      },
      "source": [
        "pct_of_time_tommy_did_not_spread = len(np.where(np.array(days_of_simulation)==3)[0])/len(days_of_simulation)\n",
        "print(\"Out of the 10,000 simulation trials, Tommy did not infect his fellow classmates {}% times.\".format(pct_of_time_tommy_did_not_spread * 100))"
      ],
      "execution_count": 46,
      "outputs": [
        {
          "output_type": "stream",
          "text": [
            "Out of the 10,000 simulation trials, Tommy did not infect his fellow classmates 29.43% times.\n"
          ],
          "name": "stdout"
        }
      ]
    },
    {
      "cell_type": "code",
      "metadata": {
        "id": "Rq8W-zlPlUvS"
      },
      "source": [
        ""
      ],
      "execution_count": null,
      "outputs": []
    }
  ]
}