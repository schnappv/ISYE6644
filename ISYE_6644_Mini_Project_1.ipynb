{
  "nbformat": 4,
  "nbformat_minor": 0,
  "metadata": {
    "colab": {
      "name": "ISYE_6644_Mini_Project_1.ipynb",
      "provenance": [],
      "collapsed_sections": [],
      "include_colab_link": true
    },
    "kernelspec": {
      "name": "python3",
      "display_name": "Python 3"
    },
    "language_info": {
      "name": "python"
    }
  },
  "cells": [
    {
      "cell_type": "markdown",
      "metadata": {
        "id": "view-in-github",
        "colab_type": "text"
      },
      "source": [
        "<a href=\"https://colab.research.google.com/github/schnappv/ISYE6644/blob/main/ISYE_6644_Mini_Project_1.ipynb\" target=\"_parent\"><img src=\"https://colab.research.google.com/assets/colab-badge.svg\" alt=\"Open In Colab\"/></a>"
      ]
    },
    {
      "cell_type": "markdown",
      "metadata": {
        "id": "NRexKkqzod22"
      },
      "source": [
        "# The Spread of a Flu Simulated through Python\n",
        "\n",
        "*Michael Barnhart, Valerie Schnapp, and Jonathon Yang*\n",
        "\n",
        "-----"
      ]
    },
    {
      "cell_type": "markdown",
      "metadata": {
        "id": "1I0vDEkqeWIH"
      },
      "source": [
        "Consider a classroom of 21 elementary school kids.  20 of the kids are healthy (and susceptible to flu) on Day 1.  Tommy (the 21st kid) walks in with the flu and starts interacting with his potential victims.  To keep things simple, let’s suppose that Tommy comes to school every day (whetheror not he’s sick) and will be infectious for 3 days.  Thus, there are 3 chances for Tommy to infect the other kids — Days 1, 2, and 3.  Suppose that the probabilitythat he infects any individual susceptible kid on any of the three days is p= 0.02; and suppose that all kids and days are independent (so that you have i.i.d. Bern(p) trials).\n"
      ]
    },
    {
      "cell_type": "code",
      "metadata": {
        "id": "YRMUO9P0cmWt"
      },
      "source": [
        "import matplotlib.pyplot as plt\n",
        "import numpy as np\n",
        "import pandas as pd\n",
        "import seaborn as sns\n",
        "import time\n",
        "\n",
        "from IPython.display import HTML, display\n",
        "from scipy import stats\n",
        "from scipy.integrate import odeint"
      ],
      "execution_count": 1,
      "outputs": []
    },
    {
      "cell_type": "code",
      "metadata": {
        "colab": {
          "base_uri": "https://localhost:8080/",
          "height": 34
        },
        "id": "oKMTyaI7Jlh9",
        "outputId": "87f2dca6-d238-4d43-d05d-0999f87f2d9e"
      },
      "source": [
        "# initiate a progress bar for running the simulation\n",
        "def progress(value, max=100):\n",
        "    return HTML(\"\"\"\n",
        "        <progress\n",
        "            value='{value}'\n",
        "            max='{max}',\n",
        "            style='width: 50%'\n",
        "        >\n",
        "            {value}\n",
        "        </progress>\n",
        "    \"\"\".format(value=value, max=max))\n",
        "    \n",
        "out = display(progress(0, 100), display_id=True)"
      ],
      "execution_count": 2,
      "outputs": [
        {
          "output_type": "display_data",
          "data": {
            "text/html": [
              "\n",
              "        <progress\n",
              "            value='0'\n",
              "            max='100',\n",
              "            style='width: 50%'\n",
              "        >\n",
              "            0\n",
              "        </progress>\n",
              "    "
            ],
            "text/plain": [
              "<IPython.core.display.HTML object>"
            ]
          },
          "metadata": {
            "tags": []
          }
        }
      ]
    },
    {
      "cell_type": "markdown",
      "metadata": {
        "id": "Ly5FWWqWJwJX"
      },
      "source": [
        "### SIR Model "
      ]
    },
    {
      "cell_type": "code",
      "metadata": {
        "id": "D12MhIO_J0KT"
      },
      "source": [
        "# The SIR model differential equations.\n",
        "def deriv(y, t, N, beta, gamma):\n",
        "    S, I, R = y\n",
        "    dSdt = -beta * S * I / N\n",
        "    dIdt = beta * S * I / N - gamma * I\n",
        "    dRdt = gamma * I\n",
        "    \n",
        "    return dSdt, dIdt, dRdt"
      ],
      "execution_count": 3,
      "outputs": []
    },
    {
      "cell_type": "code",
      "metadata": {
        "id": "acjBzZlDKB4F"
      },
      "source": [
        "t = np.linspace(0, 30, 30) # 30 days ~ 1 month\n",
        "n = 21 # total number of students\n",
        "I0 = 1 # infected at time 0\n",
        "R0 = 0 # recovered at time 0\n",
        "S0 = 20 # susceptible at time 0\n",
        "beta = 0.02 # susceptibility rate\n",
        "gamma = 1/3 # mean recovery rate\n",
        "\n",
        "y0 = [S0, I0, R0]\n",
        "\n",
        "# Integrate the SIR equations over the time grid t\n",
        "ret = odeint(deriv, y0, t, args=(n, beta, gamma))\n",
        "S, I, R = ret.T"
      ],
      "execution_count": 4,
      "outputs": []
    },
    {
      "cell_type": "code",
      "metadata": {
        "colab": {
          "base_uri": "https://localhost:8080/",
          "height": 535
        },
        "id": "8G6MPI49My1M",
        "outputId": "0af80a78-63b9-4b72-9877-8ad116d539f6"
      },
      "source": [
        "# Plot the data on three separate curves for S(t), I(t) and R(t)\n",
        "plt.rcParams.update({'font.size':18})\n",
        "sns.set_style('whitegrid')\n",
        "plt.figure(figsize=(12,8))\n",
        "plt.plot(t, S, 'b', lw=2, label='Susceptible')\n",
        "plt.plot(t, I, 'r', lw=2, label='Infected')\n",
        "plt.plot(t, R, 'g', lw=2, label='Recovered')\n",
        "plt.title(\"SIR Model for Tommy's Class\")\n",
        "plt.xlabel('Days')\n",
        "plt.ylabel('Number of Classmates')\n",
        "plt.legend()\n",
        "plt.show()"
      ],
      "execution_count": 5,
      "outputs": [
        {
          "output_type": "display_data",
          "data": {
            "image/png": "[encoded data removed]",
            "text/plain": [
              "<Figure size 864x576 with 1 Axes>"
            ]
          },
          "metadata": {
            "tags": []
          }
        }
      ]
    },
    {
      "cell_type": "markdown",
      "metadata": {
        "id": "Nzgbtu3YN0OF"
      },
      "source": [
        "Based on this differential equation model, Tommy will not infect and students and the flu will leave his class when he is recovered after 3 days.\n",
        "\n",
        "Let's explore this more as a simulation now."
      ]
    },
    {
      "cell_type": "markdown",
      "metadata": {
        "id": "ifCVGKGuc7PV"
      },
      "source": [
        "### (a) What is the distribution of the number of kids that Tommy infects on Day 1"
      ]
    },
    {
      "cell_type": "markdown",
      "metadata": {
        "id": "Fn2NnJjjNv9E"
      },
      "source": [
        "Since there are 20 students that could be infected my Tommy, there are 20 i.i.d `Bernoulli(p=0.02)` trials. This means that the distribution of the number of kids that Tommy infects on Day 1 is `X~Binomial(n=20, p=0.02)`. Now, we can simulate this distribution over `N=10000` trials. "
      ]
    },
    {
      "cell_type": "code",
      "metadata": {
        "id": "zgZzpLjfc6zZ"
      },
      "source": [
        "n = 21 # total number of students\n",
        "I0 = 1 # infected at time 0\n",
        "R0 = 0 # recovered at time 0\n",
        "S0 = 20 # susceptible at time 0\n",
        "p = 0.02 # susceptibility rate\n",
        "N = 10000 # number of simulation trials"
      ],
      "execution_count": 6,
      "outputs": []
    },
    {
      "cell_type": "code",
      "metadata": {
        "id": "PP71Fj-vc6rr",
        "colab": {
          "base_uri": "https://localhost:8080/",
          "height": 34
        },
        "outputId": "438e4114-ff27-4322-fc35-f7529f72e93c"
      },
      "source": [
        "# set a random seed for reproducability \n",
        "np.random.seed(42)\n",
        "for j in range(N):\n",
        "  infected_by_tommy_on_day_one = stats.binom.rvs(n-I0, p, size=N)\n",
        "  out.update(progress(j, N))"
      ],
      "execution_count": 7,
      "outputs": [
        {
          "output_type": "display_data",
          "data": {
            "text/html": [
              "\n",
              "        <progress\n",
              "            value='9999'\n",
              "            max='10000',\n",
              "            style='width: 50%'\n",
              "        >\n",
              "            9999\n",
              "        </progress>\n",
              "    "
            ],
            "text/plain": [
              "<IPython.core.display.HTML object>"
            ]
          },
          "metadata": {
            "tags": []
          }
        }
      ]
    },
    {
      "cell_type": "code",
      "metadata": {
        "colab": {
          "base_uri": "https://localhost:8080/",
          "height": 80
        },
        "id": "5zsFtl3geAty",
        "outputId": "9db31d97-bed1-4e92-d0e6-0e6760c177b6"
      },
      "source": [
        "# display a summary of the number of students infected by Tommy day 1 over N trials\n",
        "pd.DataFrame(infected_by_tommy_on_day_one).describe().T"
      ],
      "execution_count": 8,
      "outputs": [
        {
          "output_type": "execute_result",
          "data": {
            "text/html": [
              "<div>\n",
              "<style scoped>\n",
              "    .dataframe tbody tr th:only-of-type {\n",
              "        vertical-align: middle;\n",
              "    }\n",
              "\n",
              "    .dataframe tbody tr th {\n",
              "        vertical-align: top;\n",
              "    }\n",
              "\n",
              "    .dataframe thead th {\n",
              "        text-align: right;\n",
              "    }\n",
              "</style>\n",
              "<table border=\"1\" class=\"dataframe\">\n",
              "  <thead>\n",
              "    <tr style=\"text-align: right;\">\n",
              "      <th></th>\n",
              "      <th>count</th>\n",
              "      <th>mean</th>\n",
              "      <th>std</th>\n",
              "      <th>min</th>\n",
              "      <th>25%</th>\n",
              "      <th>50%</th>\n",
              "      <th>75%</th>\n",
              "      <th>max</th>\n",
              "    </tr>\n",
              "  </thead>\n",
              "  <tbody>\n",
              "    <tr>\n",
              "      <th>0</th>\n",
              "      <td>10000.0</td>\n",
              "      <td>0.3975</td>\n",
              "      <td>0.620268</td>\n",
              "      <td>0.0</td>\n",
              "      <td>0.0</td>\n",
              "      <td>0.0</td>\n",
              "      <td>1.0</td>\n",
              "      <td>4.0</td>\n",
              "    </tr>\n",
              "  </tbody>\n",
              "</table>\n",
              "</div>"
            ],
            "text/plain": [
              "     count    mean       std  min  25%  50%  75%  max\n",
              "0  10000.0  0.3975  0.620268  0.0  0.0  0.0  1.0  4.0"
            ]
          },
          "metadata": {
            "tags": []
          },
          "execution_count": 8
        }
      ]
    },
    {
      "cell_type": "code",
      "metadata": {
        "colab": {
          "base_uri": "https://localhost:8080/",
          "height": 535
        },
        "id": "2wYscAuYF65w",
        "outputId": "3b9a7312-3b18-4077-dbba-b60a573925a8"
      },
      "source": [
        "plt.rcParams.update({'font.size':18})\n",
        "sns.set_style('whitegrid')\n",
        "plt.figure(figsize=(12,8))\n",
        "plt.title(\"Number of Students Infected by Tommy on Day 1\")\n",
        "sns.histplot(infected_by_tommy_on_day_one, discrete=True, kde=False,\n",
        "             bins=range(5))\n",
        "plt.xlabel(\"Students Infected\")\n",
        "plt.ylabel(\"Simulation Trials\")\n",
        "plt.show()"
      ],
      "execution_count": 9,
      "outputs": [
        {
          "output_type": "display_data",
          "data": {
            "image/png": "[encoded data removed]",
            "text/plain": [
              "<Figure size 864x576 with 1 Axes>"
            ]
          },
          "metadata": {
            "tags": []
          }
        }
      ]
    },
    {
      "cell_type": "markdown",
      "metadata": {
        "id": "L1aYffVjPQ_z"
      },
      "source": [
        "The summary show’s a right skewed distribution (i.e. the mode is less than the median is less than the mean) that heavily favors the number of students to be infected by Tommy on day one to be only 0 students. \n"
      ]
    },
    {
      "cell_type": "markdown",
      "metadata": {
        "id": "IxYgctcJPXj4"
      },
      "source": [
        "### (b) What is the expected number of kids that Tommy infects on Day 1?"
      ]
    },
    {
      "cell_type": "markdown",
      "metadata": {
        "id": "XpLfCLQzPofP"
      },
      "source": [
        "`E[X] = n*p` for a Binomial distribution (i.e. `n` Bernoulli trials). `E[X] = 20 susceptible * 0.02 = 0.4`. "
      ]
    },
    {
      "cell_type": "code",
      "metadata": {
        "colab": {
          "base_uri": "https://localhost:8080/"
        },
        "id": "SySHskObP9QS",
        "outputId": "c6f59366-3d8a-4be7-ab60-08161ec25a82"
      },
      "source": [
        "I1 = 1 # Students infected on day 1\n",
        "R1 = 0 # Students recovered on day 1\n",
        "S1 = 21 - I1 # Students susceptible on day 1\n",
        "\n",
        "Ex1 = S1 * (I1 * p)\n",
        "print(\"At day one, E[x] = \", Ex1)"
      ],
      "execution_count": 10,
      "outputs": [
        {
          "output_type": "stream",
          "text": [
            "At day one, E[x] =  0.4\n"
          ],
          "name": "stdout"
        }
      ]
    },
    {
      "cell_type": "markdown",
      "metadata": {
        "id": "eLfLuP7fQQ7R"
      },
      "source": [
        "Since you can’t have a fraction of a person, we are going to take the ceiling of this and expect that one student to be infected on Day 1."
      ]
    },
    {
      "cell_type": "markdown",
      "metadata": {
        "id": "PpiBLNtxPcwe"
      },
      "source": [
        "### (c) What  is  the  expected  number  of  kids  that  are  infected  by  Day  2  (you  can count Tommy if you want)?\n"
      ]
    },
    {
      "cell_type": "markdown",
      "metadata": {
        "id": "5M0AQO7vQS5I"
      },
      "source": [
        "`E[X] = n*p`. Since we now have 2 infected people (Tommy plus the person he infected), `n=21-1.4=19.6`. This also means we need to double the probability."
      ]
    },
    {
      "cell_type": "code",
      "metadata": {
        "colab": {
          "base_uri": "https://localhost:8080/"
        },
        "id": "CHccJ_2UQgaG",
        "outputId": "ffbf7b45-7552-4c61-b4b7-3980894c8e71"
      },
      "source": [
        "I2 = 1 + Ex1 # Students infected on day 2\n",
        "R2 = 0 # Students recovered on day 2\n",
        "S2 = 21 - I2 # Students susceptible on day 2\n",
        "\n",
        "Ex2 = S2 * (I2 * p)\n",
        "print(\"At day 2, E[x] = \", Ex2)"
      ],
      "execution_count": 11,
      "outputs": [
        {
          "output_type": "stream",
          "text": [
            "At day 2, E[x] =  0.5488\n"
          ],
          "name": "stdout"
        }
      ]
    },
    {
      "cell_type": "markdown",
      "metadata": {
        "id": "bZokw_IlQg6A"
      },
      "source": [
        "Since you can’t have a fraction of a person, we are going to take the ceiling of this and expect that one student to be infected on Day 2. We now expect there to be 3 people infected by Day 3."
      ]
    },
    {
      "cell_type": "markdown",
      "metadata": {
        "id": "lcDrU34fXH8w"
      },
      "source": [
        "### (d) Simulate the number of kids that are infected on Days 1,2,. . . .  Do this many times.  What are the (estimated) expected numbers of kids that are infected by Day i = 1, 2, . . .?  Produce a histogram detailing how long the “epidemic” will last."
      ]
    },
    {
      "cell_type": "code",
      "metadata": {
        "id": "ClWxuRBZZ1vu"
      },
      "source": [
        "# total number of students\n",
        "n = 21\n",
        "# infected at time 0\n",
        "I0 = 1\n",
        "# recovered at time 0\n",
        "R0 = 0\n",
        "# susceptible at time 0\n",
        "S0 = 20"
      ],
      "execution_count": 12,
      "outputs": []
    },
    {
      "cell_type": "code",
      "metadata": {
        "id": "meTobcY2jyMc"
      },
      "source": [
        "def simulate_flu(n, p, I0, gamma):\n",
        "  \"\"\"\n",
        "  Simulates the flu spread in Tommy's class and determines the number of days\n",
        "  the flu will last for. Assume the infection lasts for gamma days and \n",
        "  you are recovered after (no longer susceptible). Simulation terminates\n",
        "  when either no more students are infected or no more studets are susceptible.\n",
        "\n",
        "  Parameters\n",
        "  --------\n",
        "  n : int\n",
        "    The number of students in the class\n",
        "  \n",
        "  p : float\n",
        "    The probability of infecting someone if you are infected\n",
        "  \n",
        "  I0 : int\n",
        "    The number of students initially infected\n",
        "  \n",
        "  gamma : int\n",
        "    The number of days infection lasts for\n",
        "  \n",
        "  Returns\n",
        "  --------\n",
        "  df : pd.DataFrame\n",
        "    A dataframe with daily records on students infected, susceptible, and recovered\n",
        "  \"\"\"\n",
        "  t = 0\n",
        "  infected = np.array([gamma]*I0)\n",
        "  num_infected = len(infected)\n",
        "  p_i = p * num_infected\n",
        "  num_recovered = 0\n",
        "  num_sus = n - num_infected - num_recovered\n",
        "  df = pd.DataFrame()\n",
        "  for t in range(100):\n",
        "    if np.all(infected <= 0) or num_sus < 1:\n",
        "      while t < 22: # 22 was determined by running the simulation and finding it to be the maximum number of days\n",
        "        df = df.append(pd.DataFrame({\n",
        "          \"Day\": t+1,\n",
        "          \"Students Infected\": 0,\n",
        "          \"Students Susceptible\": 0,\n",
        "          \"Students Recovered\": num_recovered,\n",
        "          \"Probability of Infection\": 0\n",
        "          }, index=[t]), ignore_index=True)\n",
        "        t += 1\n",
        "      return df\n",
        "    df = df.append(pd.DataFrame({\n",
        "        \"Day\": t+1,\n",
        "        \"Students Infected\": num_infected,\n",
        "        \"Students Susceptible\": num_sus,\n",
        "        \"Students Recovered\": num_recovered,\n",
        "        \"Probability of Infection\": p_i\n",
        "        }, index=[t]), ignore_index=True)\n",
        "    day_t_infected = np.random.binomial(num_sus, p_i)\n",
        "    if day_t_infected != 0:\n",
        "      infected = np.append(infected, np.ones(day_t_infected) * gamma+1)\n",
        "    num_infected = len(infected[infected != 0])\n",
        "    t += 1\n",
        "    infected -= 1\n",
        "    num_recovered += len(np.where(infected == 0)[0])\n",
        "    p_i = p * num_infected\n",
        "    num_sus = n - num_infected - num_recovered"
      ],
      "execution_count": 13,
      "outputs": []
    },
    {
      "cell_type": "code",
      "metadata": {
        "colab": {
          "base_uri": "https://localhost:8080/",
          "height": 762
        },
        "id": "6QuVyrvisiy3",
        "outputId": "a8b97a7d-dc2d-4e7a-af60-20de18951194"
      },
      "source": [
        "# run the simulation with a random seed for reproducability\n",
        "np.random.seed(100)\n",
        "df = simulate_flu(n=21, p=0.02, I0=1, gamma=3)\n",
        "\n",
        "# display results for one run\n",
        "df.set_index(\"Day\")"
      ],
      "execution_count": 20,
      "outputs": [
        {
          "output_type": "execute_result",
          "data": {
            "text/html": [
              "<div>\n",
              "<style scoped>\n",
              "    .dataframe tbody tr th:only-of-type {\n",
              "        vertical-align: middle;\n",
              "    }\n",
              "\n",
              "    .dataframe tbody tr th {\n",
              "        vertical-align: top;\n",
              "    }\n",
              "\n",
              "    .dataframe thead th {\n",
              "        text-align: right;\n",
              "    }\n",
              "</style>\n",
              "<table border=\"1\" class=\"dataframe\">\n",
              "  <thead>\n",
              "    <tr style=\"text-align: right;\">\n",
              "      <th></th>\n",
              "      <th>Students Infected</th>\n",
              "      <th>Students Susceptible</th>\n",
              "      <th>Students Recovered</th>\n",
              "      <th>Probability of Infection</th>\n",
              "    </tr>\n",
              "    <tr>\n",
              "      <th>Day</th>\n",
              "      <th></th>\n",
              "      <th></th>\n",
              "      <th></th>\n",
              "      <th></th>\n",
              "    </tr>\n",
              "  </thead>\n",
              "  <tbody>\n",
              "    <tr>\n",
              "      <th>1</th>\n",
              "      <td>1</td>\n",
              "      <td>20</td>\n",
              "      <td>0</td>\n",
              "      <td>0.02</td>\n",
              "    </tr>\n",
              "    <tr>\n",
              "      <th>2</th>\n",
              "      <td>1</td>\n",
              "      <td>20</td>\n",
              "      <td>0</td>\n",
              "      <td>0.02</td>\n",
              "    </tr>\n",
              "    <tr>\n",
              "      <th>3</th>\n",
              "      <td>1</td>\n",
              "      <td>20</td>\n",
              "      <td>0</td>\n",
              "      <td>0.02</td>\n",
              "    </tr>\n",
              "    <tr>\n",
              "      <th>4</th>\n",
              "      <td>0</td>\n",
              "      <td>0</td>\n",
              "      <td>1</td>\n",
              "      <td>0.00</td>\n",
              "    </tr>\n",
              "    <tr>\n",
              "      <th>5</th>\n",
              "      <td>0</td>\n",
              "      <td>0</td>\n",
              "      <td>1</td>\n",
              "      <td>0.00</td>\n",
              "    </tr>\n",
              "    <tr>\n",
              "      <th>6</th>\n",
              "      <td>0</td>\n",
              "      <td>0</td>\n",
              "      <td>1</td>\n",
              "      <td>0.00</td>\n",
              "    </tr>\n",
              "    <tr>\n",
              "      <th>7</th>\n",
              "      <td>0</td>\n",
              "      <td>0</td>\n",
              "      <td>1</td>\n",
              "      <td>0.00</td>\n",
              "    </tr>\n",
              "    <tr>\n",
              "      <th>8</th>\n",
              "      <td>0</td>\n",
              "      <td>0</td>\n",
              "      <td>1</td>\n",
              "      <td>0.00</td>\n",
              "    </tr>\n",
              "    <tr>\n",
              "      <th>9</th>\n",
              "      <td>0</td>\n",
              "      <td>0</td>\n",
              "      <td>1</td>\n",
              "      <td>0.00</td>\n",
              "    </tr>\n",
              "    <tr>\n",
              "      <th>10</th>\n",
              "      <td>0</td>\n",
              "      <td>0</td>\n",
              "      <td>1</td>\n",
              "      <td>0.00</td>\n",
              "    </tr>\n",
              "    <tr>\n",
              "      <th>11</th>\n",
              "      <td>0</td>\n",
              "      <td>0</td>\n",
              "      <td>1</td>\n",
              "      <td>0.00</td>\n",
              "    </tr>\n",
              "    <tr>\n",
              "      <th>12</th>\n",
              "      <td>0</td>\n",
              "      <td>0</td>\n",
              "      <td>1</td>\n",
              "      <td>0.00</td>\n",
              "    </tr>\n",
              "    <tr>\n",
              "      <th>13</th>\n",
              "      <td>0</td>\n",
              "      <td>0</td>\n",
              "      <td>1</td>\n",
              "      <td>0.00</td>\n",
              "    </tr>\n",
              "    <tr>\n",
              "      <th>14</th>\n",
              "      <td>0</td>\n",
              "      <td>0</td>\n",
              "      <td>1</td>\n",
              "      <td>0.00</td>\n",
              "    </tr>\n",
              "    <tr>\n",
              "      <th>15</th>\n",
              "      <td>0</td>\n",
              "      <td>0</td>\n",
              "      <td>1</td>\n",
              "      <td>0.00</td>\n",
              "    </tr>\n",
              "    <tr>\n",
              "      <th>16</th>\n",
              "      <td>0</td>\n",
              "      <td>0</td>\n",
              "      <td>1</td>\n",
              "      <td>0.00</td>\n",
              "    </tr>\n",
              "    <tr>\n",
              "      <th>17</th>\n",
              "      <td>0</td>\n",
              "      <td>0</td>\n",
              "      <td>1</td>\n",
              "      <td>0.00</td>\n",
              "    </tr>\n",
              "    <tr>\n",
              "      <th>18</th>\n",
              "      <td>0</td>\n",
              "      <td>0</td>\n",
              "      <td>1</td>\n",
              "      <td>0.00</td>\n",
              "    </tr>\n",
              "    <tr>\n",
              "      <th>19</th>\n",
              "      <td>0</td>\n",
              "      <td>0</td>\n",
              "      <td>1</td>\n",
              "      <td>0.00</td>\n",
              "    </tr>\n",
              "    <tr>\n",
              "      <th>20</th>\n",
              "      <td>0</td>\n",
              "      <td>0</td>\n",
              "      <td>1</td>\n",
              "      <td>0.00</td>\n",
              "    </tr>\n",
              "    <tr>\n",
              "      <th>21</th>\n",
              "      <td>0</td>\n",
              "      <td>0</td>\n",
              "      <td>1</td>\n",
              "      <td>0.00</td>\n",
              "    </tr>\n",
              "    <tr>\n",
              "      <th>22</th>\n",
              "      <td>0</td>\n",
              "      <td>0</td>\n",
              "      <td>1</td>\n",
              "      <td>0.00</td>\n",
              "    </tr>\n",
              "  </tbody>\n",
              "</table>\n",
              "</div>"
            ],
            "text/plain": [
              "     Students Infected  ...  Probability of Infection\n",
              "Day                     ...                          \n",
              "1                    1  ...                      0.02\n",
              "2                    1  ...                      0.02\n",
              "3                    1  ...                      0.02\n",
              "4                    0  ...                      0.00\n",
              "5                    0  ...                      0.00\n",
              "6                    0  ...                      0.00\n",
              "7                    0  ...                      0.00\n",
              "8                    0  ...                      0.00\n",
              "9                    0  ...                      0.00\n",
              "10                   0  ...                      0.00\n",
              "11                   0  ...                      0.00\n",
              "12                   0  ...                      0.00\n",
              "13                   0  ...                      0.00\n",
              "14                   0  ...                      0.00\n",
              "15                   0  ...                      0.00\n",
              "16                   0  ...                      0.00\n",
              "17                   0  ...                      0.00\n",
              "18                   0  ...                      0.00\n",
              "19                   0  ...                      0.00\n",
              "20                   0  ...                      0.00\n",
              "21                   0  ...                      0.00\n",
              "22                   0  ...                      0.00\n",
              "\n",
              "[22 rows x 4 columns]"
            ]
          },
          "metadata": {
            "tags": []
          },
          "execution_count": 20
        }
      ]
    },
    {
      "cell_type": "markdown",
      "metadata": {
        "id": "FM3rYInEjYk2"
      },
      "source": [
        "As we would have expected, Tommy did not infect any students in this simulation run. We will now run the simulation 10,000 times to get a better idea of the distribution of the outcome."
      ]
    },
    {
      "cell_type": "code",
      "metadata": {
        "id": "LQoRLWC6szh-",
        "colab": {
          "base_uri": "https://localhost:8080/",
          "height": 34
        },
        "outputId": "fc2b0361-84ff-4e53-d4e8-bc6643719f02"
      },
      "source": [
        "# remove random seed\n",
        "np.random.seed(None)\n",
        "days_of_simulation = []\n",
        "total_df = pd.DataFrame()\n",
        "N = 10000\n",
        "\n",
        "# Run the simulation N=10,000 times and display progress with a progress bar\n",
        "for j in range(N):\n",
        "    new_df = simulate_flu(n=21, p=0.02, I0=1, gamma=3)\n",
        "    new_df[\"simulation_round\"] = j\n",
        "    days_of_simulation.append(len(new_df[new_df[\"Students Infected\"]!=0]))\n",
        "    total_df = total_df.append(new_df)\n",
        "    out.update(progress(j, N))"
      ],
      "execution_count": 21,
      "outputs": [
        {
          "output_type": "display_data",
          "data": {
            "text/html": [
              "\n",
              "        <progress\n",
              "            value='9999'\n",
              "            max='10000',\n",
              "            style='width: 50%'\n",
              "        >\n",
              "            9999\n",
              "        </progress>\n",
              "    "
            ],
            "text/plain": [
              "<IPython.core.display.HTML object>"
            ]
          },
          "metadata": {
            "tags": []
          }
        }
      ]
    },
    {
      "cell_type": "code",
      "metadata": {
        "id": "X-z2XfpbDHS_",
        "colab": {
          "base_uri": "https://localhost:8080/",
          "height": 535
        },
        "outputId": "2e1a4ff0-620a-4f93-cb53-027d1f0cea92"
      },
      "source": [
        "plt.rcParams.update({'font.size':18})\n",
        "sns.set_style('whitegrid')\n",
        "plt.figure(figsize=(12,8))\n",
        "plt.title(\"Days of Flu in Tommy's Class\")\n",
        "sns.histplot(days_of_simulation, discrete=True, kde=True)\n",
        "plt.xlabel(\"Days\")\n",
        "plt.ylabel(\"Simulation Trials\")\n",
        "plt.show()"
      ],
      "execution_count": 22,
      "outputs": [
        {
          "output_type": "display_data",
          "data": {
            "image/png": "[encoded data removed]",
            "text/plain": [
              "<Figure size 864x576 with 1 Axes>"
            ]
          },
          "metadata": {
            "tags": []
          }
        }
      ]
    },
    {
      "cell_type": "code",
      "metadata": {
        "id": "Tyd57y1KyvZl",
        "colab": {
          "base_uri": "https://localhost:8080/",
          "height": 80
        },
        "outputId": "c0123e38-8832-4b56-9033-11c9f8adcc01"
      },
      "source": [
        "# Display key statistics of the simulation trials\n",
        "pd.DataFrame(np.array(days_of_simulation)).describe().T"
      ],
      "execution_count": 23,
      "outputs": [
        {
          "output_type": "execute_result",
          "data": {
            "text/html": [
              "<div>\n",
              "<style scoped>\n",
              "    .dataframe tbody tr th:only-of-type {\n",
              "        vertical-align: middle;\n",
              "    }\n",
              "\n",
              "    .dataframe tbody tr th {\n",
              "        vertical-align: top;\n",
              "    }\n",
              "\n",
              "    .dataframe thead th {\n",
              "        text-align: right;\n",
              "    }\n",
              "</style>\n",
              "<table border=\"1\" class=\"dataframe\">\n",
              "  <thead>\n",
              "    <tr style=\"text-align: right;\">\n",
              "      <th></th>\n",
              "      <th>count</th>\n",
              "      <th>mean</th>\n",
              "      <th>std</th>\n",
              "      <th>min</th>\n",
              "      <th>25%</th>\n",
              "      <th>50%</th>\n",
              "      <th>75%</th>\n",
              "      <th>max</th>\n",
              "    </tr>\n",
              "  </thead>\n",
              "  <tbody>\n",
              "    <tr>\n",
              "      <th>0</th>\n",
              "      <td>10000.0</td>\n",
              "      <td>8.0585</td>\n",
              "      <td>4.198576</td>\n",
              "      <td>3.0</td>\n",
              "      <td>3.0</td>\n",
              "      <td>9.0</td>\n",
              "      <td>11.0</td>\n",
              "      <td>22.0</td>\n",
              "    </tr>\n",
              "  </tbody>\n",
              "</table>\n",
              "</div>"
            ],
            "text/plain": [
              "     count    mean       std  min  25%  50%   75%   max\n",
              "0  10000.0  8.0585  4.198576  3.0  3.0  9.0  11.0  22.0"
            ]
          },
          "metadata": {
            "tags": []
          },
          "execution_count": 23
        }
      ]
    },
    {
      "cell_type": "markdown",
      "metadata": {
        "id": "Xo5jBCsfVvSH"
      },
      "source": [
        "This shows us that a majority of the runs terminate after 3 days because if Tommy does not infect any students, the infection will be fully gone after three days. For the simulation runs where Tommy does infect a student, then the number of days ranges from 3 to 22. "
      ]
    },
    {
      "cell_type": "code",
      "metadata": {
        "id": "y9xQ3hogxtSG",
        "colab": {
          "base_uri": "https://localhost:8080/",
          "height": 731
        },
        "outputId": "4822abb3-98cc-4051-bb66-400276375ef3"
      },
      "source": [
        "avg_students_infected_per_day = total_df.groupby(\"Day\").mean()[[\"Students Infected\"]][:-1]\n",
        "avg_students_infected_per_day"
      ],
      "execution_count": 24,
      "outputs": [
        {
          "output_type": "execute_result",
          "data": {
            "text/html": [
              "<div>\n",
              "<style scoped>\n",
              "    .dataframe tbody tr th:only-of-type {\n",
              "        vertical-align: middle;\n",
              "    }\n",
              "\n",
              "    .dataframe tbody tr th {\n",
              "        vertical-align: top;\n",
              "    }\n",
              "\n",
              "    .dataframe thead th {\n",
              "        text-align: right;\n",
              "    }\n",
              "</style>\n",
              "<table border=\"1\" class=\"dataframe\">\n",
              "  <thead>\n",
              "    <tr style=\"text-align: right;\">\n",
              "      <th></th>\n",
              "      <th>Students Infected</th>\n",
              "    </tr>\n",
              "    <tr>\n",
              "      <th>Day</th>\n",
              "      <th></th>\n",
              "    </tr>\n",
              "  </thead>\n",
              "  <tbody>\n",
              "    <tr>\n",
              "      <th>1</th>\n",
              "      <td>1.0000</td>\n",
              "    </tr>\n",
              "    <tr>\n",
              "      <th>2</th>\n",
              "      <td>1.3960</td>\n",
              "    </tr>\n",
              "    <tr>\n",
              "      <th>3</th>\n",
              "      <td>1.9371</td>\n",
              "    </tr>\n",
              "    <tr>\n",
              "      <th>4</th>\n",
              "      <td>2.3600</td>\n",
              "    </tr>\n",
              "    <tr>\n",
              "      <th>5</th>\n",
              "      <td>2.3736</td>\n",
              "    </tr>\n",
              "    <tr>\n",
              "      <th>6</th>\n",
              "      <td>3.3030</td>\n",
              "    </tr>\n",
              "    <tr>\n",
              "      <th>7</th>\n",
              "      <td>3.8261</td>\n",
              "    </tr>\n",
              "    <tr>\n",
              "      <th>8</th>\n",
              "      <td>4.0534</td>\n",
              "    </tr>\n",
              "    <tr>\n",
              "      <th>9</th>\n",
              "      <td>4.1073</td>\n",
              "    </tr>\n",
              "    <tr>\n",
              "      <th>10</th>\n",
              "      <td>3.7675</td>\n",
              "    </tr>\n",
              "    <tr>\n",
              "      <th>11</th>\n",
              "      <td>3.0685</td>\n",
              "    </tr>\n",
              "    <tr>\n",
              "      <th>12</th>\n",
              "      <td>2.3430</td>\n",
              "    </tr>\n",
              "    <tr>\n",
              "      <th>13</th>\n",
              "      <td>1.5570</td>\n",
              "    </tr>\n",
              "    <tr>\n",
              "      <th>14</th>\n",
              "      <td>0.9194</td>\n",
              "    </tr>\n",
              "    <tr>\n",
              "      <th>15</th>\n",
              "      <td>0.5151</td>\n",
              "    </tr>\n",
              "    <tr>\n",
              "      <th>16</th>\n",
              "      <td>0.2739</td>\n",
              "    </tr>\n",
              "    <tr>\n",
              "      <th>17</th>\n",
              "      <td>0.1322</td>\n",
              "    </tr>\n",
              "    <tr>\n",
              "      <th>18</th>\n",
              "      <td>0.0556</td>\n",
              "    </tr>\n",
              "    <tr>\n",
              "      <th>19</th>\n",
              "      <td>0.0249</td>\n",
              "    </tr>\n",
              "    <tr>\n",
              "      <th>20</th>\n",
              "      <td>0.0099</td>\n",
              "    </tr>\n",
              "    <tr>\n",
              "      <th>21</th>\n",
              "      <td>0.0010</td>\n",
              "    </tr>\n",
              "  </tbody>\n",
              "</table>\n",
              "</div>"
            ],
            "text/plain": [
              "     Students Infected\n",
              "Day                   \n",
              "1               1.0000\n",
              "2               1.3960\n",
              "3               1.9371\n",
              "4               2.3600\n",
              "5               2.3736\n",
              "6               3.3030\n",
              "7               3.8261\n",
              "8               4.0534\n",
              "9               4.1073\n",
              "10              3.7675\n",
              "11              3.0685\n",
              "12              2.3430\n",
              "13              1.5570\n",
              "14              0.9194\n",
              "15              0.5151\n",
              "16              0.2739\n",
              "17              0.1322\n",
              "18              0.0556\n",
              "19              0.0249\n",
              "20              0.0099\n",
              "21              0.0010"
            ]
          },
          "metadata": {
            "tags": []
          },
          "execution_count": 24
        }
      ]
    },
    {
      "cell_type": "code",
      "metadata": {
        "colab": {
          "base_uri": "https://localhost:8080/",
          "height": 669
        },
        "id": "81ZBgxZfssH8",
        "outputId": "0cf10b05-012a-4c9e-f1d1-4a1c4c3ae724"
      },
      "source": [
        "total_df.head(20)"
      ],
      "execution_count": 25,
      "outputs": [
        {
          "output_type": "execute_result",
          "data": {
            "text/html": [
              "<div>\n",
              "<style scoped>\n",
              "    .dataframe tbody tr th:only-of-type {\n",
              "        vertical-align: middle;\n",
              "    }\n",
              "\n",
              "    .dataframe tbody tr th {\n",
              "        vertical-align: top;\n",
              "    }\n",
              "\n",
              "    .dataframe thead th {\n",
              "        text-align: right;\n",
              "    }\n",
              "</style>\n",
              "<table border=\"1\" class=\"dataframe\">\n",
              "  <thead>\n",
              "    <tr style=\"text-align: right;\">\n",
              "      <th></th>\n",
              "      <th>Day</th>\n",
              "      <th>Students Infected</th>\n",
              "      <th>Students Susceptible</th>\n",
              "      <th>Students Recovered</th>\n",
              "      <th>Probability of Infection</th>\n",
              "      <th>simulation_round</th>\n",
              "    </tr>\n",
              "  </thead>\n",
              "  <tbody>\n",
              "    <tr>\n",
              "      <th>0</th>\n",
              "      <td>1</td>\n",
              "      <td>1</td>\n",
              "      <td>20</td>\n",
              "      <td>0</td>\n",
              "      <td>0.02</td>\n",
              "      <td>0</td>\n",
              "    </tr>\n",
              "    <tr>\n",
              "      <th>1</th>\n",
              "      <td>2</td>\n",
              "      <td>1</td>\n",
              "      <td>20</td>\n",
              "      <td>0</td>\n",
              "      <td>0.02</td>\n",
              "      <td>0</td>\n",
              "    </tr>\n",
              "    <tr>\n",
              "      <th>2</th>\n",
              "      <td>3</td>\n",
              "      <td>1</td>\n",
              "      <td>20</td>\n",
              "      <td>0</td>\n",
              "      <td>0.02</td>\n",
              "      <td>0</td>\n",
              "    </tr>\n",
              "    <tr>\n",
              "      <th>3</th>\n",
              "      <td>4</td>\n",
              "      <td>0</td>\n",
              "      <td>0</td>\n",
              "      <td>1</td>\n",
              "      <td>0.00</td>\n",
              "      <td>0</td>\n",
              "    </tr>\n",
              "    <tr>\n",
              "      <th>4</th>\n",
              "      <td>5</td>\n",
              "      <td>0</td>\n",
              "      <td>0</td>\n",
              "      <td>1</td>\n",
              "      <td>0.00</td>\n",
              "      <td>0</td>\n",
              "    </tr>\n",
              "    <tr>\n",
              "      <th>5</th>\n",
              "      <td>6</td>\n",
              "      <td>0</td>\n",
              "      <td>0</td>\n",
              "      <td>1</td>\n",
              "      <td>0.00</td>\n",
              "      <td>0</td>\n",
              "    </tr>\n",
              "    <tr>\n",
              "      <th>6</th>\n",
              "      <td>7</td>\n",
              "      <td>0</td>\n",
              "      <td>0</td>\n",
              "      <td>1</td>\n",
              "      <td>0.00</td>\n",
              "      <td>0</td>\n",
              "    </tr>\n",
              "    <tr>\n",
              "      <th>7</th>\n",
              "      <td>8</td>\n",
              "      <td>0</td>\n",
              "      <td>0</td>\n",
              "      <td>1</td>\n",
              "      <td>0.00</td>\n",
              "      <td>0</td>\n",
              "    </tr>\n",
              "    <tr>\n",
              "      <th>8</th>\n",
              "      <td>9</td>\n",
              "      <td>0</td>\n",
              "      <td>0</td>\n",
              "      <td>1</td>\n",
              "      <td>0.00</td>\n",
              "      <td>0</td>\n",
              "    </tr>\n",
              "    <tr>\n",
              "      <th>9</th>\n",
              "      <td>10</td>\n",
              "      <td>0</td>\n",
              "      <td>0</td>\n",
              "      <td>1</td>\n",
              "      <td>0.00</td>\n",
              "      <td>0</td>\n",
              "    </tr>\n",
              "    <tr>\n",
              "      <th>10</th>\n",
              "      <td>11</td>\n",
              "      <td>0</td>\n",
              "      <td>0</td>\n",
              "      <td>1</td>\n",
              "      <td>0.00</td>\n",
              "      <td>0</td>\n",
              "    </tr>\n",
              "    <tr>\n",
              "      <th>11</th>\n",
              "      <td>12</td>\n",
              "      <td>0</td>\n",
              "      <td>0</td>\n",
              "      <td>1</td>\n",
              "      <td>0.00</td>\n",
              "      <td>0</td>\n",
              "    </tr>\n",
              "    <tr>\n",
              "      <th>12</th>\n",
              "      <td>13</td>\n",
              "      <td>0</td>\n",
              "      <td>0</td>\n",
              "      <td>1</td>\n",
              "      <td>0.00</td>\n",
              "      <td>0</td>\n",
              "    </tr>\n",
              "    <tr>\n",
              "      <th>13</th>\n",
              "      <td>14</td>\n",
              "      <td>0</td>\n",
              "      <td>0</td>\n",
              "      <td>1</td>\n",
              "      <td>0.00</td>\n",
              "      <td>0</td>\n",
              "    </tr>\n",
              "    <tr>\n",
              "      <th>14</th>\n",
              "      <td>15</td>\n",
              "      <td>0</td>\n",
              "      <td>0</td>\n",
              "      <td>1</td>\n",
              "      <td>0.00</td>\n",
              "      <td>0</td>\n",
              "    </tr>\n",
              "    <tr>\n",
              "      <th>15</th>\n",
              "      <td>16</td>\n",
              "      <td>0</td>\n",
              "      <td>0</td>\n",
              "      <td>1</td>\n",
              "      <td>0.00</td>\n",
              "      <td>0</td>\n",
              "    </tr>\n",
              "    <tr>\n",
              "      <th>16</th>\n",
              "      <td>17</td>\n",
              "      <td>0</td>\n",
              "      <td>0</td>\n",
              "      <td>1</td>\n",
              "      <td>0.00</td>\n",
              "      <td>0</td>\n",
              "    </tr>\n",
              "    <tr>\n",
              "      <th>17</th>\n",
              "      <td>18</td>\n",
              "      <td>0</td>\n",
              "      <td>0</td>\n",
              "      <td>1</td>\n",
              "      <td>0.00</td>\n",
              "      <td>0</td>\n",
              "    </tr>\n",
              "    <tr>\n",
              "      <th>18</th>\n",
              "      <td>19</td>\n",
              "      <td>0</td>\n",
              "      <td>0</td>\n",
              "      <td>1</td>\n",
              "      <td>0.00</td>\n",
              "      <td>0</td>\n",
              "    </tr>\n",
              "    <tr>\n",
              "      <th>19</th>\n",
              "      <td>20</td>\n",
              "      <td>0</td>\n",
              "      <td>0</td>\n",
              "      <td>1</td>\n",
              "      <td>0.00</td>\n",
              "      <td>0</td>\n",
              "    </tr>\n",
              "  </tbody>\n",
              "</table>\n",
              "</div>"
            ],
            "text/plain": [
              "    Day  Students Infected  ...  Probability of Infection  simulation_round\n",
              "0     1                  1  ...                      0.02                 0\n",
              "1     2                  1  ...                      0.02                 0\n",
              "2     3                  1  ...                      0.02                 0\n",
              "3     4                  0  ...                      0.00                 0\n",
              "4     5                  0  ...                      0.00                 0\n",
              "5     6                  0  ...                      0.00                 0\n",
              "6     7                  0  ...                      0.00                 0\n",
              "7     8                  0  ...                      0.00                 0\n",
              "8     9                  0  ...                      0.00                 0\n",
              "9    10                  0  ...                      0.00                 0\n",
              "10   11                  0  ...                      0.00                 0\n",
              "11   12                  0  ...                      0.00                 0\n",
              "12   13                  0  ...                      0.00                 0\n",
              "13   14                  0  ...                      0.00                 0\n",
              "14   15                  0  ...                      0.00                 0\n",
              "15   16                  0  ...                      0.00                 0\n",
              "16   17                  0  ...                      0.00                 0\n",
              "17   18                  0  ...                      0.00                 0\n",
              "18   19                  0  ...                      0.00                 0\n",
              "19   20                  0  ...                      0.00                 0\n",
              "\n",
              "[20 rows x 6 columns]"
            ]
          },
          "metadata": {
            "tags": []
          },
          "execution_count": 25
        }
      ]
    },
    {
      "cell_type": "code",
      "metadata": {
        "id": "5KACicgepd5P",
        "colab": {
          "base_uri": "https://localhost:8080/",
          "height": 535
        },
        "outputId": "03bf6189-4f5d-4d37-edfd-8c388509af3f"
      },
      "source": [
        "sns.set_style('whitegrid')\n",
        "plt.figure(figsize=(12, 8))\n",
        "\n",
        "plt.title('Average Number of Students Infected Per Day')\n",
        "plt.xlabel(\"Day\")\n",
        "plt.ylabel(\"Number of Students\")\n",
        "sns.lineplot(x=range(1, 22), y=avg_students_infected_per_day['Students Infected'],\n",
        "             marker='o', linewidth=2)\n",
        "plt.show()"
      ],
      "execution_count": 26,
      "outputs": [
        {
          "output_type": "display_data",
          "data": {
            "image/png": "[encoded data removed]",
            "text/plain": [
              "<Figure size 864x576 with 1 Axes>"
            ]
          },
          "metadata": {
            "tags": []
          }
        }
      ]
    },
    {
      "cell_type": "code",
      "metadata": {
        "id": "b0pkk7gojVj6",
        "colab": {
          "base_uri": "https://localhost:8080/"
        },
        "outputId": "d3229de9-860f-4a7d-cd07-d0570df772ff"
      },
      "source": [
        "from scipy.stats import geom\n",
        "p = 0.02\n",
        "prob = geom.cdf(3, p)\n",
        "print(\"The probability that Tommy will infect another student in his 3 days of contagiousness is {}%\".format(prob*100))"
      ],
      "execution_count": 27,
      "outputs": [
        {
          "output_type": "stream",
          "text": [
            "The probability that Tommy will infect another student in his 3 days of contagiousness is 5.8808%\n"
          ],
          "name": "stdout"
        }
      ]
    },
    {
      "cell_type": "code",
      "metadata": {
        "id": "UvtX0PaXjZpc",
        "colab": {
          "base_uri": "https://localhost:8080/"
        },
        "outputId": "3c4c038b-7f90-4cbc-feb8-1e852d903447"
      },
      "source": [
        "pct_of_time_tommy_did_not_spread = len(np.where(np.array(days_of_simulation)==3)[0])/len(days_of_simulation)\n",
        "print(\"Out of the 10,000 simulation trials, Tommy did not infect his fellow classmates {}% times.\".format(pct_of_time_tommy_did_not_spread * 100))"
      ],
      "execution_count": 28,
      "outputs": [
        {
          "output_type": "stream",
          "text": [
            "Out of the 10,000 simulation trials, Tommy did not infect his fellow classmates 29.75% times.\n"
          ],
          "name": "stdout"
        }
      ]
    },
    {
      "cell_type": "code",
      "metadata": {
        "id": "Rq8W-zlPlUvS"
      },
      "source": [
        ""
      ],
      "execution_count": null,
      "outputs": []
    }
  ]
}